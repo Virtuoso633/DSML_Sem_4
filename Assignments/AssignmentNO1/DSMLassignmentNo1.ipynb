{
  "nbformat": 4,
  "nbformat_minor": 0,
  "metadata": {
    "colab": {
      "provenance": [],
      "authorship_tag": "ABX9TyNxebdxSW0rEGaFYGIJlb0f",
      "include_colab_link": true
    },
    "kernelspec": {
      "name": "python3",
      "display_name": "Python 3"
    },
    "language_info": {
      "name": "python"
    }
  },
  "cells": [
    {
      "cell_type": "markdown",
      "metadata": {
        "id": "view-in-github",
        "colab_type": "text"
      },
      "source": [
        "<a href=\"https://colab.research.google.com/github/Virtuoso633/DSML_Sem_4/blob/main/Assignments/AssignmentNO1/DSMLassignmentNo1.ipynb\" target=\"_parent\"><img src=\"https://colab.research.google.com/assets/colab-badge.svg\" alt=\"Open In Colab\"/></a>"
      ]
    },
    {
      "cell_type": "code",
      "execution_count": null,
      "metadata": {
        "id": "ZDfSP2Hv6rcI"
      },
      "outputs": [],
      "source": [
        "import pandas as pd"
      ]
    },
    {
      "cell_type": "code",
      "source": [
        "#Load the Iris Data (Assuming you have \"/Iris.csv\" downloaded):\n",
        "iris = pd.read_csv(\"/Iris.csv\")"
      ],
      "metadata": {
        "id": "rGZKNo56V11G"
      },
      "execution_count": null,
      "outputs": []
    },
    {
      "cell_type": "code",
      "source": [
        "#Exploring the Data:\n",
        "iris.describe()"
      ],
      "metadata": {
        "colab": {
          "base_uri": "https://localhost:8080/",
          "height": 291
        },
        "id": "KfRSkANFV5-7",
        "outputId": "16daaca4-ffdd-4620-c549-ffa74cec8392"
      },
      "execution_count": null,
      "outputs": [
        {
          "output_type": "execute_result",
          "data": {
            "text/plain": [
              "               Id  SepalLengthCm  SepalWidthCm  PetalLengthCm  PetalWidthCm\n",
              "count  150.000000     150.000000    150.000000     150.000000    150.000000\n",
              "mean    75.500000       5.843333      3.054000       3.758667      1.198667\n",
              "std     43.445368       0.828066      0.433594       1.764420      0.763161\n",
              "min      1.000000       4.300000      2.000000       1.000000      0.100000\n",
              "25%     38.250000       5.100000      2.800000       1.600000      0.300000\n",
              "50%     75.500000       5.800000      3.000000       4.350000      1.300000\n",
              "75%    112.750000       6.400000      3.300000       5.100000      1.800000\n",
              "max    150.000000       7.900000      4.400000       6.900000      2.500000"
            ],
            "text/html": [
              "\n",
              "  <div id=\"df-817f237a-d9ff-4745-b96a-62cfc827c0a8\" class=\"colab-df-container\">\n",
              "    <div>\n",
              "<style scoped>\n",
              "    .dataframe tbody tr th:only-of-type {\n",
              "        vertical-align: middle;\n",
              "    }\n",
              "\n",
              "    .dataframe tbody tr th {\n",
              "        vertical-align: top;\n",
              "    }\n",
              "\n",
              "    .dataframe thead th {\n",
              "        text-align: right;\n",
              "    }\n",
              "</style>\n",
              "<table border=\"1\" class=\"dataframe\">\n",
              "  <thead>\n",
              "    <tr style=\"text-align: right;\">\n",
              "      <th></th>\n",
              "      <th>Id</th>\n",
              "      <th>SepalLengthCm</th>\n",
              "      <th>SepalWidthCm</th>\n",
              "      <th>PetalLengthCm</th>\n",
              "      <th>PetalWidthCm</th>\n",
              "    </tr>\n",
              "  </thead>\n",
              "  <tbody>\n",
              "    <tr>\n",
              "      <th>count</th>\n",
              "      <td>150.000000</td>\n",
              "      <td>150.000000</td>\n",
              "      <td>150.000000</td>\n",
              "      <td>150.000000</td>\n",
              "      <td>150.000000</td>\n",
              "    </tr>\n",
              "    <tr>\n",
              "      <th>mean</th>\n",
              "      <td>75.500000</td>\n",
              "      <td>5.843333</td>\n",
              "      <td>3.054000</td>\n",
              "      <td>3.758667</td>\n",
              "      <td>1.198667</td>\n",
              "    </tr>\n",
              "    <tr>\n",
              "      <th>std</th>\n",
              "      <td>43.445368</td>\n",
              "      <td>0.828066</td>\n",
              "      <td>0.433594</td>\n",
              "      <td>1.764420</td>\n",
              "      <td>0.763161</td>\n",
              "    </tr>\n",
              "    <tr>\n",
              "      <th>min</th>\n",
              "      <td>1.000000</td>\n",
              "      <td>4.300000</td>\n",
              "      <td>2.000000</td>\n",
              "      <td>1.000000</td>\n",
              "      <td>0.100000</td>\n",
              "    </tr>\n",
              "    <tr>\n",
              "      <th>25%</th>\n",
              "      <td>38.250000</td>\n",
              "      <td>5.100000</td>\n",
              "      <td>2.800000</td>\n",
              "      <td>1.600000</td>\n",
              "      <td>0.300000</td>\n",
              "    </tr>\n",
              "    <tr>\n",
              "      <th>50%</th>\n",
              "      <td>75.500000</td>\n",
              "      <td>5.800000</td>\n",
              "      <td>3.000000</td>\n",
              "      <td>4.350000</td>\n",
              "      <td>1.300000</td>\n",
              "    </tr>\n",
              "    <tr>\n",
              "      <th>75%</th>\n",
              "      <td>112.750000</td>\n",
              "      <td>6.400000</td>\n",
              "      <td>3.300000</td>\n",
              "      <td>5.100000</td>\n",
              "      <td>1.800000</td>\n",
              "    </tr>\n",
              "    <tr>\n",
              "      <th>max</th>\n",
              "      <td>150.000000</td>\n",
              "      <td>7.900000</td>\n",
              "      <td>4.400000</td>\n",
              "      <td>6.900000</td>\n",
              "      <td>2.500000</td>\n",
              "    </tr>\n",
              "  </tbody>\n",
              "</table>\n",
              "</div>\n",
              "    <div class=\"colab-df-buttons\">\n",
              "\n",
              "  <div class=\"colab-df-container\">\n",
              "    <button class=\"colab-df-convert\" onclick=\"convertToInteractive('df-817f237a-d9ff-4745-b96a-62cfc827c0a8')\"\n",
              "            title=\"Convert this dataframe to an interactive table.\"\n",
              "            style=\"display:none;\">\n",
              "\n",
              "  <svg xmlns=\"http://www.w3.org/2000/svg\" height=\"24px\" viewBox=\"0 -960 960 960\">\n",
              "    <path d=\"M120-120v-720h720v720H120Zm60-500h600v-160H180v160Zm220 220h160v-160H400v160Zm0 220h160v-160H400v160ZM180-400h160v-160H180v160Zm440 0h160v-160H620v160ZM180-180h160v-160H180v160Zm440 0h160v-160H620v160Z\"/>\n",
              "  </svg>\n",
              "    </button>\n",
              "\n",
              "  <style>\n",
              "    .colab-df-container {\n",
              "      display:flex;\n",
              "      gap: 12px;\n",
              "    }\n",
              "\n",
              "    .colab-df-convert {\n",
              "      background-color: #E8F0FE;\n",
              "      border: none;\n",
              "      border-radius: 50%;\n",
              "      cursor: pointer;\n",
              "      display: none;\n",
              "      fill: #1967D2;\n",
              "      height: 32px;\n",
              "      padding: 0 0 0 0;\n",
              "      width: 32px;\n",
              "    }\n",
              "\n",
              "    .colab-df-convert:hover {\n",
              "      background-color: #E2EBFA;\n",
              "      box-shadow: 0px 1px 2px rgba(60, 64, 67, 0.3), 0px 1px 3px 1px rgba(60, 64, 67, 0.15);\n",
              "      fill: #174EA6;\n",
              "    }\n",
              "\n",
              "    .colab-df-buttons div {\n",
              "      margin-bottom: 4px;\n",
              "    }\n",
              "\n",
              "    [theme=dark] .colab-df-convert {\n",
              "      background-color: #3B4455;\n",
              "      fill: #D2E3FC;\n",
              "    }\n",
              "\n",
              "    [theme=dark] .colab-df-convert:hover {\n",
              "      background-color: #434B5C;\n",
              "      box-shadow: 0px 1px 3px 1px rgba(0, 0, 0, 0.15);\n",
              "      filter: drop-shadow(0px 1px 2px rgba(0, 0, 0, 0.3));\n",
              "      fill: #FFFFFF;\n",
              "    }\n",
              "  </style>\n",
              "\n",
              "    <script>\n",
              "      const buttonEl =\n",
              "        document.querySelector('#df-817f237a-d9ff-4745-b96a-62cfc827c0a8 button.colab-df-convert');\n",
              "      buttonEl.style.display =\n",
              "        google.colab.kernel.accessAllowed ? 'block' : 'none';\n",
              "\n",
              "      async function convertToInteractive(key) {\n",
              "        const element = document.querySelector('#df-817f237a-d9ff-4745-b96a-62cfc827c0a8');\n",
              "        const dataTable =\n",
              "          await google.colab.kernel.invokeFunction('convertToInteractive',\n",
              "                                                    [key], {});\n",
              "        if (!dataTable) return;\n",
              "\n",
              "        const docLinkHtml = 'Like what you see? Visit the ' +\n",
              "          '<a target=\"_blank\" href=https://colab.research.google.com/notebooks/data_table.ipynb>data table notebook</a>'\n",
              "          + ' to learn more about interactive tables.';\n",
              "        element.innerHTML = '';\n",
              "        dataTable['output_type'] = 'display_data';\n",
              "        await google.colab.output.renderOutput(dataTable, element);\n",
              "        const docLink = document.createElement('div');\n",
              "        docLink.innerHTML = docLinkHtml;\n",
              "        element.appendChild(docLink);\n",
              "      }\n",
              "    </script>\n",
              "  </div>\n",
              "\n",
              "\n",
              "<div id=\"df-8167f44b-1e32-4742-99f9-5a67ca57e38b\">\n",
              "  <button class=\"colab-df-quickchart\" onclick=\"quickchart('df-8167f44b-1e32-4742-99f9-5a67ca57e38b')\"\n",
              "            title=\"Suggest charts\"\n",
              "            style=\"display:none;\">\n",
              "\n",
              "<svg xmlns=\"http://www.w3.org/2000/svg\" height=\"24px\"viewBox=\"0 0 24 24\"\n",
              "     width=\"24px\">\n",
              "    <g>\n",
              "        <path d=\"M19 3H5c-1.1 0-2 .9-2 2v14c0 1.1.9 2 2 2h14c1.1 0 2-.9 2-2V5c0-1.1-.9-2-2-2zM9 17H7v-7h2v7zm4 0h-2V7h2v10zm4 0h-2v-4h2v4z\"/>\n",
              "    </g>\n",
              "</svg>\n",
              "  </button>\n",
              "\n",
              "<style>\n",
              "  .colab-df-quickchart {\n",
              "      --bg-color: #E8F0FE;\n",
              "      --fill-color: #1967D2;\n",
              "      --hover-bg-color: #E2EBFA;\n",
              "      --hover-fill-color: #174EA6;\n",
              "      --disabled-fill-color: #AAA;\n",
              "      --disabled-bg-color: #DDD;\n",
              "  }\n",
              "\n",
              "  [theme=dark] .colab-df-quickchart {\n",
              "      --bg-color: #3B4455;\n",
              "      --fill-color: #D2E3FC;\n",
              "      --hover-bg-color: #434B5C;\n",
              "      --hover-fill-color: #FFFFFF;\n",
              "      --disabled-bg-color: #3B4455;\n",
              "      --disabled-fill-color: #666;\n",
              "  }\n",
              "\n",
              "  .colab-df-quickchart {\n",
              "    background-color: var(--bg-color);\n",
              "    border: none;\n",
              "    border-radius: 50%;\n",
              "    cursor: pointer;\n",
              "    display: none;\n",
              "    fill: var(--fill-color);\n",
              "    height: 32px;\n",
              "    padding: 0;\n",
              "    width: 32px;\n",
              "  }\n",
              "\n",
              "  .colab-df-quickchart:hover {\n",
              "    background-color: var(--hover-bg-color);\n",
              "    box-shadow: 0 1px 2px rgba(60, 64, 67, 0.3), 0 1px 3px 1px rgba(60, 64, 67, 0.15);\n",
              "    fill: var(--button-hover-fill-color);\n",
              "  }\n",
              "\n",
              "  .colab-df-quickchart-complete:disabled,\n",
              "  .colab-df-quickchart-complete:disabled:hover {\n",
              "    background-color: var(--disabled-bg-color);\n",
              "    fill: var(--disabled-fill-color);\n",
              "    box-shadow: none;\n",
              "  }\n",
              "\n",
              "  .colab-df-spinner {\n",
              "    border: 2px solid var(--fill-color);\n",
              "    border-color: transparent;\n",
              "    border-bottom-color: var(--fill-color);\n",
              "    animation:\n",
              "      spin 1s steps(1) infinite;\n",
              "  }\n",
              "\n",
              "  @keyframes spin {\n",
              "    0% {\n",
              "      border-color: transparent;\n",
              "      border-bottom-color: var(--fill-color);\n",
              "      border-left-color: var(--fill-color);\n",
              "    }\n",
              "    20% {\n",
              "      border-color: transparent;\n",
              "      border-left-color: var(--fill-color);\n",
              "      border-top-color: var(--fill-color);\n",
              "    }\n",
              "    30% {\n",
              "      border-color: transparent;\n",
              "      border-left-color: var(--fill-color);\n",
              "      border-top-color: var(--fill-color);\n",
              "      border-right-color: var(--fill-color);\n",
              "    }\n",
              "    40% {\n",
              "      border-color: transparent;\n",
              "      border-right-color: var(--fill-color);\n",
              "      border-top-color: var(--fill-color);\n",
              "    }\n",
              "    60% {\n",
              "      border-color: transparent;\n",
              "      border-right-color: var(--fill-color);\n",
              "    }\n",
              "    80% {\n",
              "      border-color: transparent;\n",
              "      border-right-color: var(--fill-color);\n",
              "      border-bottom-color: var(--fill-color);\n",
              "    }\n",
              "    90% {\n",
              "      border-color: transparent;\n",
              "      border-bottom-color: var(--fill-color);\n",
              "    }\n",
              "  }\n",
              "</style>\n",
              "\n",
              "  <script>\n",
              "    async function quickchart(key) {\n",
              "      const quickchartButtonEl =\n",
              "        document.querySelector('#' + key + ' button');\n",
              "      quickchartButtonEl.disabled = true;  // To prevent multiple clicks.\n",
              "      quickchartButtonEl.classList.add('colab-df-spinner');\n",
              "      try {\n",
              "        const charts = await google.colab.kernel.invokeFunction(\n",
              "            'suggestCharts', [key], {});\n",
              "      } catch (error) {\n",
              "        console.error('Error during call to suggestCharts:', error);\n",
              "      }\n",
              "      quickchartButtonEl.classList.remove('colab-df-spinner');\n",
              "      quickchartButtonEl.classList.add('colab-df-quickchart-complete');\n",
              "    }\n",
              "    (() => {\n",
              "      let quickchartButtonEl =\n",
              "        document.querySelector('#df-8167f44b-1e32-4742-99f9-5a67ca57e38b button');\n",
              "      quickchartButtonEl.style.display =\n",
              "        google.colab.kernel.accessAllowed ? 'block' : 'none';\n",
              "    })();\n",
              "  </script>\n",
              "</div>\n",
              "\n",
              "    </div>\n",
              "  </div>\n"
            ],
            "application/vnd.google.colaboratory.intrinsic+json": {
              "type": "dataframe",
              "summary": "{\n  \"name\": \"iris\",\n  \"rows\": 8,\n  \"fields\": [\n    {\n      \"column\": \"Id\",\n      \"properties\": {\n        \"dtype\": \"number\",\n        \"std\": 53.756293020494844,\n        \"min\": 1.0,\n        \"max\": 150.0,\n        \"num_unique_values\": 6,\n        \"samples\": [\n          150.0,\n          75.5,\n          112.75\n        ],\n        \"semantic_type\": \"\",\n        \"description\": \"\"\n      }\n    },\n    {\n      \"column\": \"SepalLengthCm\",\n      \"properties\": {\n        \"dtype\": \"number\",\n        \"std\": 51.24711349471842,\n        \"min\": 0.828066127977863,\n        \"max\": 150.0,\n        \"num_unique_values\": 8,\n        \"samples\": [\n          5.843333333333334,\n          5.8,\n          150.0\n        ],\n        \"semantic_type\": \"\",\n        \"description\": \"\"\n      }\n    },\n    {\n      \"column\": \"SepalWidthCm\",\n      \"properties\": {\n        \"dtype\": \"number\",\n        \"std\": 52.08647211421483,\n        \"min\": 0.4335943113621737,\n        \"max\": 150.0,\n        \"num_unique_values\": 8,\n        \"samples\": [\n          3.0540000000000003,\n          3.0,\n          150.0\n        ],\n        \"semantic_type\": \"\",\n        \"description\": \"\"\n      }\n    },\n    {\n      \"column\": \"PetalLengthCm\",\n      \"properties\": {\n        \"dtype\": \"number\",\n        \"std\": 51.835227940958106,\n        \"min\": 1.0,\n        \"max\": 150.0,\n        \"num_unique_values\": 8,\n        \"samples\": [\n          3.758666666666666,\n          4.35,\n          150.0\n        ],\n        \"semantic_type\": \"\",\n        \"description\": \"\"\n      }\n    },\n    {\n      \"column\": \"PetalWidthCm\",\n      \"properties\": {\n        \"dtype\": \"number\",\n        \"std\": 52.636634243409915,\n        \"min\": 0.1,\n        \"max\": 150.0,\n        \"num_unique_values\": 8,\n        \"samples\": [\n          1.1986666666666668,\n          1.3,\n          150.0\n        ],\n        \"semantic_type\": \"\",\n        \"description\": \"\"\n      }\n    }\n  ]\n}"
            }
          },
          "metadata": {},
          "execution_count": 25
        }
      ]
    },
    {
      "cell_type": "code",
      "source": [
        "# Data Manipulation:\n",
        "iris.dtypes"
      ],
      "metadata": {
        "colab": {
          "base_uri": "https://localhost:8080/"
        },
        "id": "MF2WZv3AXHPM",
        "outputId": "c0b0ee2d-62e3-4614-d6dc-737cb9c5ccf0"
      },
      "execution_count": null,
      "outputs": [
        {
          "output_type": "execute_result",
          "data": {
            "text/plain": [
              "Id                 int64\n",
              "SepalLengthCm    float64\n",
              "SepalWidthCm     float64\n",
              "PetalLengthCm    float64\n",
              "PetalWidthCm     float64\n",
              "Species           object\n",
              "dtype: object"
            ]
          },
          "metadata": {},
          "execution_count": 26
        }
      ]
    },
    {
      "cell_type": "markdown",
      "source": [],
      "metadata": {
        "id": "GiZdaVw6YpGj"
      }
    },
    {
      "cell_type": "code",
      "source": [
        "# This creates a new DataFrame containing only the \"Sepal Length\" and \"Petal Length\" columns.\n",
        "sepal_length_petal_length = iris[[\"SepalLengthCm\", \"PetalLengthCm\"]]\n",
        "print(sepal_length_petal_length)"
      ],
      "metadata": {
        "colab": {
          "base_uri": "https://localhost:8080/"
        },
        "id": "-8Wq0ZY2XLfC",
        "outputId": "3bc5b109-4b9f-4ce0-ec6c-e1ec620a6cc7"
      },
      "execution_count": null,
      "outputs": [
        {
          "output_type": "stream",
          "name": "stdout",
          "text": [
            "     SepalLengthCm  PetalLengthCm\n",
            "0              5.1            1.4\n",
            "1              4.9            1.4\n",
            "2              4.7            1.3\n",
            "3              4.6            1.5\n",
            "4              5.0            1.4\n",
            "..             ...            ...\n",
            "145            6.7            5.2\n",
            "146            6.3            5.0\n",
            "147            6.5            5.2\n",
            "148            6.2            5.4\n",
            "149            5.9            5.1\n",
            "\n",
            "[150 rows x 2 columns]\n"
          ]
        }
      ]
    },
    {
      "cell_type": "code",
      "source": [
        "#Filter data based on conditions:\n",
        "iris_setosa = iris[iris[\"Species\"] == \"Iris-setosa\"]\n",
        "print(iris_setosa)"
      ],
      "metadata": {
        "colab": {
          "base_uri": "https://localhost:8080/"
        },
        "id": "ijAPRUtLXcUq",
        "outputId": "bb0ee207-e934-486c-a0bd-d2681e6668df"
      },
      "execution_count": null,
      "outputs": [
        {
          "output_type": "stream",
          "name": "stdout",
          "text": [
            "    Id  SepalLengthCm  SepalWidthCm  PetalLengthCm  PetalWidthCm      Species  \\\n",
            "0    1            5.1           3.5            1.4           0.2  Iris-setosa   \n",
            "1    2            4.9           3.0            1.4           0.2  Iris-setosa   \n",
            "2    3            4.7           3.2            1.3           0.2  Iris-setosa   \n",
            "3    4            4.6           3.1            1.5           0.2  Iris-setosa   \n",
            "4    5            5.0           3.6            1.4           0.2  Iris-setosa   \n",
            "5    6            5.4           3.9            1.7           0.4  Iris-setosa   \n",
            "6    7            4.6           3.4            1.4           0.3  Iris-setosa   \n",
            "7    8            5.0           3.4            1.5           0.2  Iris-setosa   \n",
            "8    9            4.4           2.9            1.4           0.2  Iris-setosa   \n",
            "9   10            4.9           3.1            1.5           0.1  Iris-setosa   \n",
            "10  11            5.4           3.7            1.5           0.2  Iris-setosa   \n",
            "11  12            4.8           3.4            1.6           0.2  Iris-setosa   \n",
            "12  13            4.8           3.0            1.4           0.1  Iris-setosa   \n",
            "13  14            4.3           3.0            1.1           0.1  Iris-setosa   \n",
            "14  15            5.8           4.0            1.2           0.2  Iris-setosa   \n",
            "15  16            5.7           4.4            1.5           0.4  Iris-setosa   \n",
            "16  17            5.4           3.9            1.3           0.4  Iris-setosa   \n",
            "17  18            5.1           3.5            1.4           0.3  Iris-setosa   \n",
            "18  19            5.7           3.8            1.7           0.3  Iris-setosa   \n",
            "19  20            5.1           3.8            1.5           0.3  Iris-setosa   \n",
            "20  21            5.4           3.4            1.7           0.2  Iris-setosa   \n",
            "21  22            5.1           3.7            1.5           0.4  Iris-setosa   \n",
            "22  23            4.6           3.6            1.0           0.2  Iris-setosa   \n",
            "23  24            5.1           3.3            1.7           0.5  Iris-setosa   \n",
            "24  25            4.8           3.4            1.9           0.2  Iris-setosa   \n",
            "25  26            5.0           3.0            1.6           0.2  Iris-setosa   \n",
            "26  27            5.0           3.4            1.6           0.4  Iris-setosa   \n",
            "27  28            5.2           3.5            1.5           0.2  Iris-setosa   \n",
            "28  29            5.2           3.4            1.4           0.2  Iris-setosa   \n",
            "29  30            4.7           3.2            1.6           0.2  Iris-setosa   \n",
            "30  31            4.8           3.1            1.6           0.2  Iris-setosa   \n",
            "31  32            5.4           3.4            1.5           0.4  Iris-setosa   \n",
            "32  33            5.2           4.1            1.5           0.1  Iris-setosa   \n",
            "33  34            5.5           4.2            1.4           0.2  Iris-setosa   \n",
            "34  35            4.9           3.1            1.5           0.1  Iris-setosa   \n",
            "35  36            5.0           3.2            1.2           0.2  Iris-setosa   \n",
            "36  37            5.5           3.5            1.3           0.2  Iris-setosa   \n",
            "37  38            4.9           3.1            1.5           0.1  Iris-setosa   \n",
            "38  39            4.4           3.0            1.3           0.2  Iris-setosa   \n",
            "39  40            5.1           3.4            1.5           0.2  Iris-setosa   \n",
            "40  41            5.0           3.5            1.3           0.3  Iris-setosa   \n",
            "41  42            4.5           2.3            1.3           0.3  Iris-setosa   \n",
            "42  43            4.4           3.2            1.3           0.2  Iris-setosa   \n",
            "43  44            5.0           3.5            1.6           0.6  Iris-setosa   \n",
            "44  45            5.1           3.8            1.9           0.4  Iris-setosa   \n",
            "45  46            4.8           3.0            1.4           0.3  Iris-setosa   \n",
            "46  47            5.1           3.8            1.6           0.2  Iris-setosa   \n",
            "47  48            4.6           3.2            1.4           0.2  Iris-setosa   \n",
            "48  49            5.3           3.7            1.5           0.2  Iris-setosa   \n",
            "49  50            5.0           3.3            1.4           0.2  Iris-setosa   \n",
            "\n",
            "    Sepal Width_numeric Petal Length_str  \n",
            "0                   3.5              1.4  \n",
            "1                   3.0              1.4  \n",
            "2                   3.2              1.3  \n",
            "3                   3.1              1.5  \n",
            "4                   3.6              1.4  \n",
            "5                   3.9              1.7  \n",
            "6                   3.4              1.4  \n",
            "7                   3.4              1.5  \n",
            "8                   2.9              1.4  \n",
            "9                   3.1              1.5  \n",
            "10                  3.7              1.5  \n",
            "11                  3.4              1.6  \n",
            "12                  3.0              1.4  \n",
            "13                  3.0              1.1  \n",
            "14                  4.0              1.2  \n",
            "15                  4.4              1.5  \n",
            "16                  3.9              1.3  \n",
            "17                  3.5              1.4  \n",
            "18                  3.8              1.7  \n",
            "19                  3.8              1.5  \n",
            "20                  3.4              1.7  \n",
            "21                  3.7              1.5  \n",
            "22                  3.6              1.0  \n",
            "23                  3.3              1.7  \n",
            "24                  3.4              1.9  \n",
            "25                  3.0              1.6  \n",
            "26                  3.4              1.6  \n",
            "27                  3.5              1.5  \n",
            "28                  3.4              1.4  \n",
            "29                  3.2              1.6  \n",
            "30                  3.1              1.6  \n",
            "31                  3.4              1.5  \n",
            "32                  4.1              1.5  \n",
            "33                  4.2              1.4  \n",
            "34                  3.1              1.5  \n",
            "35                  3.2              1.2  \n",
            "36                  3.5              1.3  \n",
            "37                  3.1              1.5  \n",
            "38                  3.0              1.3  \n",
            "39                  3.4              1.5  \n",
            "40                  3.5              1.3  \n",
            "41                  2.3              1.3  \n",
            "42                  3.2              1.3  \n",
            "43                  3.5              1.6  \n",
            "44                  3.8              1.9  \n",
            "45                  3.0              1.4  \n",
            "46                  3.8              1.6  \n",
            "47                  3.2              1.4  \n",
            "48                  3.7              1.5  \n",
            "49                  3.3              1.4  \n"
          ]
        }
      ]
    },
    {
      "cell_type": "code",
      "source": [
        "#Sort data:\n",
        "\n",
        "iris_sorted_petal_width = iris.sort_values(by=\"PetalWidthCm\", ascending=False)\n",
        "#This sorts the data by \"Petal Width\" in descending order (widest petals first).\n",
        "\n",
        "print(iris_sorted_petal_width)"
      ],
      "metadata": {
        "colab": {
          "base_uri": "https://localhost:8080/"
        },
        "id": "tJW1XPxrXvnx",
        "outputId": "0a7ffc3b-b9f8-4715-aa81-253558364e59"
      },
      "execution_count": null,
      "outputs": [
        {
          "output_type": "stream",
          "name": "stdout",
          "text": [
            "      Id  SepalLengthCm  SepalWidthCm  PetalLengthCm  PetalWidthCm  \\\n",
            "100  101            6.3           3.3            6.0           2.5   \n",
            "109  110            7.2           3.6            6.1           2.5   \n",
            "144  145            6.7           3.3            5.7           2.5   \n",
            "114  115            5.8           2.8            5.1           2.4   \n",
            "140  141            6.7           3.1            5.6           2.4   \n",
            "..   ...            ...           ...            ...           ...   \n",
            "13    14            4.3           3.0            1.1           0.1   \n",
            "37    38            4.9           3.1            1.5           0.1   \n",
            "32    33            5.2           4.1            1.5           0.1   \n",
            "34    35            4.9           3.1            1.5           0.1   \n",
            "9     10            4.9           3.1            1.5           0.1   \n",
            "\n",
            "            Species  Sepal Width_numeric Petal Length_str  \n",
            "100  Iris-virginica                  3.3              6.0  \n",
            "109  Iris-virginica                  3.6              6.1  \n",
            "144  Iris-virginica                  3.3              5.7  \n",
            "114  Iris-virginica                  2.8              5.1  \n",
            "140  Iris-virginica                  3.1              5.6  \n",
            "..              ...                  ...              ...  \n",
            "13      Iris-setosa                  3.0              1.1  \n",
            "37      Iris-setosa                  3.1              1.5  \n",
            "32      Iris-setosa                  4.1              1.5  \n",
            "34      Iris-setosa                  3.1              1.5  \n",
            "9       Iris-setosa                  3.1              1.5  \n",
            "\n",
            "[150 rows x 8 columns]\n"
          ]
        }
      ]
    },
    {
      "cell_type": "code",
      "source": [
        "iris.isnull().sum()\n",
        "#This shows the total number of missing values (NaN) in each column. In the Iris dataset, there should be no missing values (all zeros)."
      ],
      "metadata": {
        "colab": {
          "base_uri": "https://localhost:8080/"
        },
        "id": "_kq7oihqp34n",
        "outputId": "b57a47df-39d5-4475-8cf0-bc916507dd2c"
      },
      "execution_count": null,
      "outputs": [
        {
          "output_type": "execute_result",
          "data": {
            "text/plain": [
              "Id               0\n",
              "SepalLengthCm    0\n",
              "SepalWidthCm     0\n",
              "PetalLengthCm    0\n",
              "PetalWidthCm     0\n",
              "Species          0\n",
              "dtype: int64"
            ]
          },
          "metadata": {},
          "execution_count": 30
        }
      ]
    },
    {
      "cell_type": "code",
      "source": [
        "first_iris_setosa = iris.iloc[0]  # Access the first row (index 0)\n",
        "sepal_length = iris[\"SepalLengthCm\"]  # Access the \"Sepal Length\" column"
      ],
      "metadata": {
        "id": "KmpEr2X_qAqS"
      },
      "execution_count": null,
      "outputs": []
    },
    {
      "cell_type": "code",
      "source": [
        "large_petal_length = iris[iris[\"PetalLengthCm\"] > 5]  # Select rows with Petal Length > 5\n",
        "print(large_petal_length)"
      ],
      "metadata": {
        "colab": {
          "base_uri": "https://localhost:8080/"
        },
        "id": "6erT39JcqmmK",
        "outputId": "5d721091-6ed7-4cc4-a32f-8743ed8bf087"
      },
      "execution_count": null,
      "outputs": [
        {
          "output_type": "stream",
          "name": "stdout",
          "text": [
            "      Id  SepalLengthCm  SepalWidthCm  PetalLengthCm  PetalWidthCm  \\\n",
            "83    84            6.0           2.7            5.1           1.6   \n",
            "100  101            6.3           3.3            6.0           2.5   \n",
            "101  102            5.8           2.7            5.1           1.9   \n",
            "102  103            7.1           3.0            5.9           2.1   \n",
            "103  104            6.3           2.9            5.6           1.8   \n",
            "104  105            6.5           3.0            5.8           2.2   \n",
            "105  106            7.6           3.0            6.6           2.1   \n",
            "107  108            7.3           2.9            6.3           1.8   \n",
            "108  109            6.7           2.5            5.8           1.8   \n",
            "109  110            7.2           3.6            6.1           2.5   \n",
            "110  111            6.5           3.2            5.1           2.0   \n",
            "111  112            6.4           2.7            5.3           1.9   \n",
            "112  113            6.8           3.0            5.5           2.1   \n",
            "114  115            5.8           2.8            5.1           2.4   \n",
            "115  116            6.4           3.2            5.3           2.3   \n",
            "116  117            6.5           3.0            5.5           1.8   \n",
            "117  118            7.7           3.8            6.7           2.2   \n",
            "118  119            7.7           2.6            6.9           2.3   \n",
            "120  121            6.9           3.2            5.7           2.3   \n",
            "122  123            7.7           2.8            6.7           2.0   \n",
            "124  125            6.7           3.3            5.7           2.1   \n",
            "125  126            7.2           3.2            6.0           1.8   \n",
            "128  129            6.4           2.8            5.6           2.1   \n",
            "129  130            7.2           3.0            5.8           1.6   \n",
            "130  131            7.4           2.8            6.1           1.9   \n",
            "131  132            7.9           3.8            6.4           2.0   \n",
            "132  133            6.4           2.8            5.6           2.2   \n",
            "133  134            6.3           2.8            5.1           1.5   \n",
            "134  135            6.1           2.6            5.6           1.4   \n",
            "135  136            7.7           3.0            6.1           2.3   \n",
            "136  137            6.3           3.4            5.6           2.4   \n",
            "137  138            6.4           3.1            5.5           1.8   \n",
            "139  140            6.9           3.1            5.4           2.1   \n",
            "140  141            6.7           3.1            5.6           2.4   \n",
            "141  142            6.9           3.1            5.1           2.3   \n",
            "142  143            5.8           2.7            5.1           1.9   \n",
            "143  144            6.8           3.2            5.9           2.3   \n",
            "144  145            6.7           3.3            5.7           2.5   \n",
            "145  146            6.7           3.0            5.2           2.3   \n",
            "147  148            6.5           3.0            5.2           2.0   \n",
            "148  149            6.2           3.4            5.4           2.3   \n",
            "149  150            5.9           3.0            5.1           1.8   \n",
            "\n",
            "             Species  Sepal Width_numeric Petal Length_str  \n",
            "83   Iris-versicolor                  2.7              5.1  \n",
            "100   Iris-virginica                  3.3              6.0  \n",
            "101   Iris-virginica                  2.7              5.1  \n",
            "102   Iris-virginica                  3.0              5.9  \n",
            "103   Iris-virginica                  2.9              5.6  \n",
            "104   Iris-virginica                  3.0              5.8  \n",
            "105   Iris-virginica                  3.0              6.6  \n",
            "107   Iris-virginica                  2.9              6.3  \n",
            "108   Iris-virginica                  2.5              5.8  \n",
            "109   Iris-virginica                  3.6              6.1  \n",
            "110   Iris-virginica                  3.2              5.1  \n",
            "111   Iris-virginica                  2.7              5.3  \n",
            "112   Iris-virginica                  3.0              5.5  \n",
            "114   Iris-virginica                  2.8              5.1  \n",
            "115   Iris-virginica                  3.2              5.3  \n",
            "116   Iris-virginica                  3.0              5.5  \n",
            "117   Iris-virginica                  3.8              6.7  \n",
            "118   Iris-virginica                  2.6              6.9  \n",
            "120   Iris-virginica                  3.2              5.7  \n",
            "122   Iris-virginica                  2.8              6.7  \n",
            "124   Iris-virginica                  3.3              5.7  \n",
            "125   Iris-virginica                  3.2              6.0  \n",
            "128   Iris-virginica                  2.8              5.6  \n",
            "129   Iris-virginica                  3.0              5.8  \n",
            "130   Iris-virginica                  2.8              6.1  \n",
            "131   Iris-virginica                  3.8              6.4  \n",
            "132   Iris-virginica                  2.8              5.6  \n",
            "133   Iris-virginica                  2.8              5.1  \n",
            "134   Iris-virginica                  2.6              5.6  \n",
            "135   Iris-virginica                  3.0              6.1  \n",
            "136   Iris-virginica                  3.4              5.6  \n",
            "137   Iris-virginica                  3.1              5.5  \n",
            "139   Iris-virginica                  3.1              5.4  \n",
            "140   Iris-virginica                  3.1              5.6  \n",
            "141   Iris-virginica                  3.1              5.1  \n",
            "142   Iris-virginica                  2.7              5.1  \n",
            "143   Iris-virginica                  3.2              5.9  \n",
            "144   Iris-virginica                  3.3              5.7  \n",
            "145   Iris-virginica                  3.0              5.2  \n",
            "147   Iris-virginica                  3.0              5.2  \n",
            "148   Iris-virginica                  3.4              5.4  \n",
            "149   Iris-virginica                  3.0              5.1  \n"
          ]
        }
      ]
    },
    {
      "cell_type": "code",
      "source": [
        "petal_columns = iris[[\"PetalLengthCm\", \"PetalWidthCm\"]]  # Select multiple columns using a list\n",
        "print(petal_columns)"
      ],
      "metadata": {
        "colab": {
          "base_uri": "https://localhost:8080/"
        },
        "id": "VtveoUrFz8fs",
        "outputId": "eb93716e-28d4-41f1-b875-3c29e1ae6976"
      },
      "execution_count": null,
      "outputs": [
        {
          "output_type": "stream",
          "name": "stdout",
          "text": [
            "     PetalLengthCm  PetalWidthCm\n",
            "0              1.4           0.2\n",
            "1              1.4           0.2\n",
            "2              1.3           0.2\n",
            "3              1.5           0.2\n",
            "4              1.4           0.2\n",
            "..             ...           ...\n",
            "145            5.2           2.3\n",
            "146            5.0           1.9\n",
            "147            5.2           2.0\n",
            "148            5.4           2.3\n",
            "149            5.1           1.8\n",
            "\n",
            "[150 rows x 2 columns]\n"
          ]
        }
      ]
    },
    {
      "cell_type": "code",
      "source": [
        "#Use sort_values with the column name and ascending (True/False) for sorting order.\n",
        "iris_sorted_sepal_length = iris.sort_values(by=\"SepalLengthCm\", ascending=False)  # Descending order\n",
        "print(iris_sorted_sepal_length)"
      ],
      "metadata": {
        "colab": {
          "base_uri": "https://localhost:8080/"
        },
        "id": "nSdriVwOqzd1",
        "outputId": "ec127025-0483-41b7-c6a2-9f0825055aa8"
      },
      "execution_count": null,
      "outputs": [
        {
          "output_type": "stream",
          "name": "stdout",
          "text": [
            "      Id  SepalLengthCm  SepalWidthCm  PetalLengthCm  PetalWidthCm  \\\n",
            "131  132            7.9           3.8            6.4           2.0   \n",
            "135  136            7.7           3.0            6.1           2.3   \n",
            "122  123            7.7           2.8            6.7           2.0   \n",
            "117  118            7.7           3.8            6.7           2.2   \n",
            "118  119            7.7           2.6            6.9           2.3   \n",
            "..   ...            ...           ...            ...           ...   \n",
            "41    42            4.5           2.3            1.3           0.3   \n",
            "42    43            4.4           3.2            1.3           0.2   \n",
            "38    39            4.4           3.0            1.3           0.2   \n",
            "8      9            4.4           2.9            1.4           0.2   \n",
            "13    14            4.3           3.0            1.1           0.1   \n",
            "\n",
            "            Species  Sepal Width_numeric Petal Length_str  \n",
            "131  Iris-virginica                  3.8              6.4  \n",
            "135  Iris-virginica                  3.0              6.1  \n",
            "122  Iris-virginica                  2.8              6.7  \n",
            "117  Iris-virginica                  3.8              6.7  \n",
            "118  Iris-virginica                  2.6              6.9  \n",
            "..              ...                  ...              ...  \n",
            "41      Iris-setosa                  2.3              1.3  \n",
            "42      Iris-setosa                  3.2              1.3  \n",
            "38      Iris-setosa                  3.0              1.3  \n",
            "8       Iris-setosa                  2.9              1.4  \n",
            "13      Iris-setosa                  3.0              1.1  \n",
            "\n",
            "[150 rows x 8 columns]\n"
          ]
        }
      ]
    },
    {
      "cell_type": "code",
      "source": [
        "#Pass a list of column names to sort_values, with the first column being the primary sorting criteria.\n",
        "iris_sorted_multi = iris.sort_values(by=[\"Species\", \"SepalLengthCm\"], ascending=[True, False])  # Sort by Species (ascending) and then Sepal Length (descending)\n",
        "print(iris_sorted_multi)"
      ],
      "metadata": {
        "colab": {
          "base_uri": "https://localhost:8080/"
        },
        "id": "l-Mzzq4Wq-Ul",
        "outputId": "d035ba9a-fd3f-4f48-db97-0e163bc2055d"
      },
      "execution_count": null,
      "outputs": [
        {
          "output_type": "stream",
          "name": "stdout",
          "text": [
            "      Id  SepalLengthCm  SepalWidthCm  PetalLengthCm  PetalWidthCm  \\\n",
            "14    15            5.8           4.0            1.2           0.2   \n",
            "15    16            5.7           4.4            1.5           0.4   \n",
            "18    19            5.7           3.8            1.7           0.3   \n",
            "33    34            5.5           4.2            1.4           0.2   \n",
            "36    37            5.5           3.5            1.3           0.2   \n",
            "..   ...            ...           ...            ...           ...   \n",
            "114  115            5.8           2.8            5.1           2.4   \n",
            "142  143            5.8           2.7            5.1           1.9   \n",
            "113  114            5.7           2.5            5.0           2.0   \n",
            "121  122            5.6           2.8            4.9           2.0   \n",
            "106  107            4.9           2.5            4.5           1.7   \n",
            "\n",
            "            Species  Sepal Width_numeric Petal Length_str  \n",
            "14      Iris-setosa                  4.0              1.2  \n",
            "15      Iris-setosa                  4.4              1.5  \n",
            "18      Iris-setosa                  3.8              1.7  \n",
            "33      Iris-setosa                  4.2              1.4  \n",
            "36      Iris-setosa                  3.5              1.3  \n",
            "..              ...                  ...              ...  \n",
            "114  Iris-virginica                  2.8              5.1  \n",
            "142  Iris-virginica                  2.7              5.1  \n",
            "113  Iris-virginica                  2.5              5.0  \n",
            "121  Iris-virginica                  2.8              4.9  \n",
            "106  Iris-virginica                  2.5              4.5  \n",
            "\n",
            "[150 rows x 8 columns]\n"
          ]
        }
      ]
    },
    {
      "cell_type": "code",
      "source": [
        "print(iris.info())\n",
        "#General information: You can also use info() to get basic information about the data, including data types, memory usage, and non-null values."
      ],
      "metadata": {
        "colab": {
          "base_uri": "https://localhost:8080/"
        },
        "id": "k3-uU-6OrDgl",
        "outputId": "5dfd499e-978c-45b5-8d3e-c60850019b32"
      },
      "execution_count": null,
      "outputs": [
        {
          "output_type": "stream",
          "name": "stdout",
          "text": [
            "<class 'pandas.core.frame.DataFrame'>\n",
            "RangeIndex: 150 entries, 0 to 149\n",
            "Data columns (total 6 columns):\n",
            " #   Column         Non-Null Count  Dtype  \n",
            "---  ------         --------------  -----  \n",
            " 0   Id             150 non-null    int64  \n",
            " 1   SepalLengthCm  150 non-null    float64\n",
            " 2   SepalWidthCm   150 non-null    float64\n",
            " 3   PetalLengthCm  150 non-null    float64\n",
            " 4   PetalWidthCm   150 non-null    float64\n",
            " 5   Species        150 non-null    object \n",
            "dtypes: float64(4), int64(1), object(1)\n",
            "memory usage: 7.2+ KB\n",
            "None\n"
          ]
        }
      ]
    },
    {
      "cell_type": "code",
      "source": [
        "#Use the dtypes attribute of the DataFrame to see the data type of each column. Common data types include:\n",
        "print(iris.dtypes)"
      ],
      "metadata": {
        "colab": {
          "base_uri": "https://localhost:8080/"
        },
        "id": "uWP6GvUdwRxa",
        "outputId": "e84cb649-c32c-4261-af6d-8ba13c6a7084"
      },
      "execution_count": null,
      "outputs": [
        {
          "output_type": "stream",
          "name": "stdout",
          "text": [
            "Id                 int64\n",
            "SepalLengthCm    float64\n",
            "SepalWidthCm     float64\n",
            "PetalLengthCm    float64\n",
            "PetalWidthCm     float64\n",
            "Species           object\n",
            "dtype: object\n"
          ]
        }
      ]
    },
    {
      "cell_type": "code",
      "source": [],
      "metadata": {
        "id": "5HgvRvJD1fUK"
      },
      "execution_count": null,
      "outputs": []
    },
    {
      "cell_type": "code",
      "source": [
        "# Assuming \"Sepal Width\" has string values representing numbers (check dtypes first)\n",
        "iris[\"Sepal Width_numeric\"] = pd.to_numeric(iris[\"SepalWidthCm\"], errors=\"coerce\")  # Handle errors (e.g., non-numeric values)\n",
        "print(iris[\"Sepal Width_numeric\"])"
      ],
      "metadata": {
        "colab": {
          "base_uri": "https://localhost:8080/"
        },
        "id": "z8jiG_P8w9bG",
        "outputId": "ca4a567f-14ab-4b19-ec05-2527d7a192b5"
      },
      "execution_count": null,
      "outputs": [
        {
          "output_type": "stream",
          "name": "stdout",
          "text": [
            "0      3.5\n",
            "1      3.0\n",
            "2      3.2\n",
            "3      3.1\n",
            "4      3.6\n",
            "      ... \n",
            "145    3.0\n",
            "146    2.5\n",
            "147    3.0\n",
            "148    3.4\n",
            "149    3.0\n",
            "Name: Sepal Width_numeric, Length: 150, dtype: float64\n"
          ]
        }
      ]
    },
    {
      "cell_type": "code",
      "source": [
        "# Example (assuming a numerical column named \"Petal Length\")\n",
        "iris[\"Petal Length_str\"] = iris[\"PetalLengthCm\"].astype(\"object\")\n",
        "print(iris[\"Petal Length_str\"])"
      ],
      "metadata": {
        "colab": {
          "base_uri": "https://localhost:8080/"
        },
        "id": "MklRGRM_yFGU",
        "outputId": "080b05d4-8edc-4132-b3e3-104cc8f24ed0"
      },
      "execution_count": null,
      "outputs": [
        {
          "output_type": "stream",
          "name": "stdout",
          "text": [
            "0      1.4\n",
            "1      1.4\n",
            "2      1.3\n",
            "3      1.5\n",
            "4      1.4\n",
            "      ... \n",
            "145    5.2\n",
            "146    5.0\n",
            "147    5.2\n",
            "148    5.4\n",
            "149    5.1\n",
            "Name: Petal Length_str, Length: 150, dtype: object\n"
          ]
        }
      ]
    },
    {
      "cell_type": "code",
      "source": [
        "iris_wide = iris.pivot_table(index=\"Species\", values=[\"SepalLengthCm\", \"SepalWidthCm\", \"PetalLengthCm\", \"PetalWidthCm\"], aggfunc=\"mean\")\n",
        "print(iris_wide)\n",
        "#Long to Wide (Using pivot_table):\n",
        "#Group by an identifier column (e.g., \"Species\") and calculate summary statistics (e.g., mean) for other columns"
      ],
      "metadata": {
        "colab": {
          "base_uri": "https://localhost:8080/"
        },
        "id": "Fa2PgTcryOw0",
        "outputId": "12953444-7abf-4bdf-fc9a-5fecf989d7f0"
      },
      "execution_count": null,
      "outputs": [
        {
          "output_type": "stream",
          "name": "stdout",
          "text": [
            "                 PetalLengthCm  PetalWidthCm  SepalLengthCm  SepalWidthCm\n",
            "Species                                                                  \n",
            "Iris-setosa              1.464         0.244          5.006         3.418\n",
            "Iris-versicolor          4.260         1.326          5.936         2.770\n",
            "Iris-virginica           5.552         2.026          6.588         2.974\n"
          ]
        }
      ]
    },
    {
      "cell_type": "code",
      "source": [
        "# Wide to Long (Using melt):\n",
        "# \"Melt\" the wide format data into a long format, specifying the identifier variable (e.g., \"Species\") and value columns.\n",
        "\n",
        "# Assuming \"iris\" is your DataFrame after loading the data\n",
        "iris_long = pd.melt(iris, id_vars=\"Species\", var_name=\"Feature\", value_name=\"Value\")\n",
        "print(iris_long.head())  # Print the first few rows of the long-format data"
      ],
      "metadata": {
        "colab": {
          "base_uri": "https://localhost:8080/"
        },
        "id": "_7QEm9XU1gNt",
        "outputId": "d704b093-ce68-4267-bee9-8d4dd89018d6"
      },
      "execution_count": null,
      "outputs": [
        {
          "output_type": "stream",
          "name": "stdout",
          "text": [
            "       Species Feature Value\n",
            "0  Iris-setosa      Id     1\n",
            "1  Iris-setosa      Id     2\n",
            "2  Iris-setosa      Id     3\n",
            "3  Iris-setosa      Id     4\n",
            "4  Iris-setosa      Id     5\n"
          ]
        }
      ]
    },
    {
      "cell_type": "code",
      "source": [],
      "metadata": {
        "id": "DvB8LOJq8ZTJ"
      },
      "execution_count": null,
      "outputs": []
    },
    {
      "cell_type": "code",
      "source": [
        "# we have a DataFrame named \"iris\" (with potential missing values)\n",
        "missing_values_count = iris.isnull().sum()\n",
        "print(missing_values_count)"
      ],
      "metadata": {
        "colab": {
          "base_uri": "https://localhost:8080/"
        },
        "id": "ks-S_JDp2Sk4",
        "outputId": "916f761d-d8b6-4d6d-9238-34ce3b26bded"
      },
      "execution_count": null,
      "outputs": [
        {
          "output_type": "stream",
          "name": "stdout",
          "text": [
            "Id                     0\n",
            "SepalLengthCm          0\n",
            "SepalWidthCm           0\n",
            "PetalLengthCm          0\n",
            "PetalWidthCm           0\n",
            "Species                0\n",
            "Sepal Width_numeric    0\n",
            "Petal Length_str       0\n",
            "dtype: int64\n"
          ]
        }
      ]
    },
    {
      "cell_type": "code",
      "source": [
        "data_no_missing = iris.dropna()  # Drop rows with any missing values"
      ],
      "metadata": {
        "id": "RWPhCKRE27Wf"
      },
      "execution_count": null,
      "outputs": []
    },
    {
      "cell_type": "code",
      "source": [
        "data_filled_zero = iris.fillna(0)  # Fill all missing values with 0 (choose appropriate value)\n",
        "#This replaces missing values with a specific value (e.g., 0, mean, median). Be cautious, as this can introduce bias depending on the context.\n",
        "print(data_filled_zero)"
      ],
      "metadata": {
        "colab": {
          "base_uri": "https://localhost:8080/"
        },
        "id": "bxw5b7Zy3B2o",
        "outputId": "cb18bb4d-0c30-4150-c009-dee0447975f6"
      },
      "execution_count": null,
      "outputs": [
        {
          "output_type": "stream",
          "name": "stdout",
          "text": [
            "      Id  SepalLengthCm  SepalWidthCm  PetalLengthCm  PetalWidthCm  \\\n",
            "0      1            5.1           3.5            1.4           0.2   \n",
            "1      2            4.9           3.0            1.4           0.2   \n",
            "2      3            4.7           3.2            1.3           0.2   \n",
            "3      4            4.6           3.1            1.5           0.2   \n",
            "4      5            5.0           3.6            1.4           0.2   \n",
            "..   ...            ...           ...            ...           ...   \n",
            "145  146            6.7           3.0            5.2           2.3   \n",
            "146  147            6.3           2.5            5.0           1.9   \n",
            "147  148            6.5           3.0            5.2           2.0   \n",
            "148  149            6.2           3.4            5.4           2.3   \n",
            "149  150            5.9           3.0            5.1           1.8   \n",
            "\n",
            "            Species  Sepal Width_numeric  Petal Length_str  \n",
            "0       Iris-setosa                  3.5               1.4  \n",
            "1       Iris-setosa                  3.0               1.4  \n",
            "2       Iris-setosa                  3.2               1.3  \n",
            "3       Iris-setosa                  3.1               1.5  \n",
            "4       Iris-setosa                  3.6               1.4  \n",
            "..              ...                  ...               ...  \n",
            "145  Iris-virginica                  3.0               5.2  \n",
            "146  Iris-virginica                  2.5               5.0  \n",
            "147  Iris-virginica                  3.0               5.2  \n",
            "148  Iris-virginica                  3.4               5.4  \n",
            "149  Iris-virginica                  3.0               5.1  \n",
            "\n",
            "[150 rows x 8 columns]\n"
          ]
        }
      ]
    },
    {
      "cell_type": "code",
      "source": [
        "data_interpolated = iris.interpolate(\"linear\")  # Linear interpolation (other methods available)\n",
        "#This method estimates missing values based on neighboring values (suitable for numerical data). Be aware of potential limitations for skewed or non-continuous data.\n",
        "print(data_interpolated)"
      ],
      "metadata": {
        "colab": {
          "base_uri": "https://localhost:8080/"
        },
        "id": "2Ed2-8v23G4f",
        "outputId": "50b656dc-6b2a-4717-d57a-2dcf383cd592"
      },
      "execution_count": null,
      "outputs": [
        {
          "output_type": "stream",
          "name": "stdout",
          "text": [
            "      Id  SepalLengthCm  SepalWidthCm  PetalLengthCm  PetalWidthCm  \\\n",
            "0      1            5.1           3.5            1.4           0.2   \n",
            "1      2            4.9           3.0            1.4           0.2   \n",
            "2      3            4.7           3.2            1.3           0.2   \n",
            "3      4            4.6           3.1            1.5           0.2   \n",
            "4      5            5.0           3.6            1.4           0.2   \n",
            "..   ...            ...           ...            ...           ...   \n",
            "145  146            6.7           3.0            5.2           2.3   \n",
            "146  147            6.3           2.5            5.0           1.9   \n",
            "147  148            6.5           3.0            5.2           2.0   \n",
            "148  149            6.2           3.4            5.4           2.3   \n",
            "149  150            5.9           3.0            5.1           1.8   \n",
            "\n",
            "            Species  Sepal Width_numeric Petal Length_str  \n",
            "0       Iris-setosa                  3.5              1.4  \n",
            "1       Iris-setosa                  3.0              1.4  \n",
            "2       Iris-setosa                  3.2              1.3  \n",
            "3       Iris-setosa                  3.1              1.5  \n",
            "4       Iris-setosa                  3.6              1.4  \n",
            "..              ...                  ...              ...  \n",
            "145  Iris-virginica                  3.0              5.2  \n",
            "146  Iris-virginica                  2.5              5.0  \n",
            "147  Iris-virginica                  3.0              5.2  \n",
            "148  Iris-virginica                  3.4              5.4  \n",
            "149  Iris-virginica                  3.0              5.1  \n",
            "\n",
            "[150 rows x 8 columns]\n"
          ]
        }
      ]
    }
  ]
}