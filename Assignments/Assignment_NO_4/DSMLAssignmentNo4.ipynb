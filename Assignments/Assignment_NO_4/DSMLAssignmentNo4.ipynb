{
  "nbformat": 4,
  "nbformat_minor": 0,
  "metadata": {
    "colab": {
      "provenance": [],
      "authorship_tag": "ABX9TyPYDqHNfqJadLSul68zOP1l",
      "include_colab_link": true
    },
    "kernelspec": {
      "name": "python3",
      "display_name": "Python 3"
    },
    "language_info": {
      "name": "python"
    }
  },
  "cells": [
    {
      "cell_type": "markdown",
      "metadata": {
        "id": "view-in-github",
        "colab_type": "text"
      },
      "source": [
        "<a href=\"https://colab.research.google.com/github/Virtuoso633/DSML_Sem_4/blob/main/Assignments/Assignment_NO_4/DSMLAssignmentNo4.ipynb\" target=\"_parent\"><img src=\"https://colab.research.google.com/assets/colab-badge.svg\" alt=\"Open In Colab\"/></a>"
      ]
    },
    {
      "cell_type": "code",
      "execution_count": null,
      "metadata": {
        "id": "nEv2dQD8o4wP"
      },
      "outputs": [],
      "source": [
        "import numpy as np\n",
        "\n",
        "# Define the given points\n",
        "points = np.array([[0.1, 0.6],[0.15, 0.71],[0.08, 0.9],[0.16, 0.85],[0.2, 0.3],[0.25, 0.5],[0.24, 0.1],[0.3, 0.2]])"
      ]
    },
    {
      "cell_type": "code",
      "source": [
        "# Initialize centroids\n",
        "m1 = points[0]  # P1\n",
        "m2 = points[7]  # P8"
      ],
      "metadata": {
        "id": "Nqzhrlx4pGJT"
      },
      "execution_count": null,
      "outputs": []
    },
    {
      "cell_type": "code",
      "source": [
        "# Define a function to calculate Euclidean distance\n",
        "def euclidean_distance(p1, p2):\n",
        "    return np.sqrt(np.sum((p1 - p2) ** 2))"
      ],
      "metadata": {
        "id": "sEWyxgSSpGTL"
      },
      "execution_count": null,
      "outputs": []
    },
    {
      "cell_type": "code",
      "source": [
        "# Perform k-means clustering\n",
        "num_iterations = 100\n",
        "for _ in range(num_iterations):\n",
        "    cluster1 = []\n",
        "    cluster2 = []\n",
        "\n",
        "    # Assign points to clusters based on closest centroid\n",
        "    for point in points:\n",
        "        distance_to_m1 = euclidean_distance(point, m1)\n",
        "        distance_to_m2 = euclidean_distance(point, m2)\n",
        "\n",
        "        if distance_to_m1 < distance_to_m2:\n",
        "            cluster1.append(point)\n",
        "        else:\n",
        "            cluster2.append(point)\n",
        "\n",
        "    # Update centroids\n",
        "    m1 = np.mean(cluster1, axis=0)\n",
        "    m2 = np.mean(cluster2, axis=0)"
      ],
      "metadata": {
        "id": "tbrApUn5pSA5"
      },
      "execution_count": null,
      "outputs": []
    },
    {
      "cell_type": "code",
      "source": [
        "# a) Which cluster does P6 belong to?\n",
        "for point in points:\n",
        "    if np.array_equal(point, [0.25, 0.5]):\n",
        "        if euclidean_distance(point, m1) < euclidean_distance(point, m2):\n",
        "            print(\"P6 belongs to Cluster 1\")\n",
        "        else:\n",
        "            print(\"P6 belongs to Cluster 2\")\n",
        "        break"
      ],
      "metadata": {
        "colab": {
          "base_uri": "https://localhost:8080/"
        },
        "id": "C6Qp3WIqpSHo",
        "outputId": "7a2687aa-9869-41a4-a626-6ddb0e812597"
      },
      "execution_count": null,
      "outputs": [
        {
          "output_type": "stream",
          "name": "stdout",
          "text": [
            "P6 belongs to Cluster 1\n"
          ]
        }
      ]
    },
    {
      "cell_type": "code",
      "source": [
        "# b) What is the population of a cluster around m2?\n",
        "population_cluster2 = len(cluster2)\n",
        "print(\"Population of Cluster 2 around m2:\", population_cluster2)"
      ],
      "metadata": {
        "colab": {
          "base_uri": "https://localhost:8080/"
        },
        "id": "QVFVCSAHvycP",
        "outputId": "08269738-9724-48bb-bfd9-aed6fc4a394a"
      },
      "execution_count": null,
      "outputs": [
        {
          "output_type": "stream",
          "name": "stdout",
          "text": [
            "Population of Cluster 2 around m2: 3\n"
          ]
        }
      ]
    },
    {
      "cell_type": "code",
      "source": [
        "# c) What is the updated value of m1 and m2?\n",
        "print(\"Updated value of m1:\", m1)\n",
        "print(\"Updated value of m2:\", m2)"
      ],
      "metadata": {
        "colab": {
          "base_uri": "https://localhost:8080/"
        },
        "id": "-IYUjo-Pv_OA",
        "outputId": "cfc41911-d897-4cdc-d5aa-7807d2d3ad18"
      },
      "execution_count": null,
      "outputs": [
        {
          "output_type": "stream",
          "name": "stdout",
          "text": [
            "Updated value of m1: [0.148 0.712]\n",
            "Updated value of m2: [0.24666667 0.2       ]\n"
          ]
        }
      ]
    }
  ]
}